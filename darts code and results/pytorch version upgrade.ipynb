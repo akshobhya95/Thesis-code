{
 "cells": [
  {
   "cell_type": "code",
   "execution_count": 1,
   "id": "3f9f5931-12f0-45a9-a596-f61e945a7711",
   "metadata": {},
   "outputs": [
    {
     "name": "stdout",
     "output_type": "stream",
     "text": [
      "Channels:\n",
      " - pytorch\n",
      " - nvidia\n",
      " - defaults\n",
      " - conda-forge\n",
      "Platform: win-64\n",
      "Collecting package metadata (repodata.json): ...working... done\n",
      "Solving environment: ...working... done\n",
      "\n",
      "## Package Plan ##\n",
      "\n",
      "  environment location: C:\\Users\\aksho\\anaconda3\n",
      "\n",
      "  added / updated specs:\n",
      "    - pytorch\n",
      "    - pytorch-cuda=11.8\n",
      "    - torchaudio\n",
      "    - torchvision\n",
      "\n",
      "\n",
      "The following NEW packages will be INSTALLED:\n",
      "\n",
      "  cuda-cudart        nvidia/win-64::cuda-cudart-11.8.89-0 \n",
      "  cuda-cudart-dev    nvidia/win-64::cuda-cudart-dev-11.8.89-0 \n",
      "  cuda-cupti         nvidia/win-64::cuda-cupti-11.8.87-0 \n",
      "  cuda-libraries     nvidia/win-64::cuda-libraries-11.8.0-0 \n",
      "  cuda-libraries-dev nvidia/win-64::cuda-libraries-dev-11.8.0-0 \n",
      "  cuda-nvrtc         nvidia/win-64::cuda-nvrtc-11.8.89-0 \n",
      "  cuda-nvrtc-dev     nvidia/win-64::cuda-nvrtc-dev-11.8.89-0 \n",
      "  cuda-nvtx          nvidia/win-64::cuda-nvtx-11.8.86-0 \n",
      "  cuda-runtime       nvidia/win-64::cuda-runtime-11.8.0-0 \n",
      "  libcublas          nvidia/win-64::libcublas-11.11.3.6-0 \n",
      "  libcublas-dev      nvidia/win-64::libcublas-dev-11.11.3.6-0 \n",
      "  libcufft           nvidia/win-64::libcufft-10.9.0.58-0 \n",
      "  libcufft-dev       nvidia/win-64::libcufft-dev-10.9.0.58-0 \n",
      "  libcusolver        nvidia/win-64::libcusolver-11.4.1.48-0 \n",
      "  libcusolver-dev    nvidia/win-64::libcusolver-dev-11.4.1.48-0 \n",
      "  libcusparse        nvidia/win-64::libcusparse-11.7.5.86-0 \n",
      "  libcusparse-dev    nvidia/win-64::libcusparse-dev-11.7.5.86-0 \n",
      "  libnpp             nvidia/win-64::libnpp-11.8.0.86-0 \n",
      "  libnpp-dev         nvidia/win-64::libnpp-dev-11.8.0.86-0 \n",
      "  libnvjpeg          nvidia/win-64::libnvjpeg-11.9.0.86-0 \n",
      "  libnvjpeg-dev      nvidia/win-64::libnvjpeg-dev-11.9.0.86-0 \n",
      "  pytorch            pytorch/win-64::pytorch-2.2.2-py3.9_cuda11.8_cudnn8_0 \n",
      "  pytorch-cuda       pytorch/win-64::pytorch-cuda-11.8-h24eeafa_5 \n",
      "  pytorch-mutex      pytorch/noarch::pytorch-mutex-1.0-cuda \n",
      "  torchaudio         pytorch/win-64::torchaudio-2.2.2-py39_cu118 \n",
      "  torchvision        pytorch/win-64::torchvision-0.17.2-py39_cu118 \n",
      "\n",
      "\n",
      "\n",
      "Downloading and Extracting Packages: ...working... done\n",
      "Preparing transaction: ...working... done\n",
      "Verifying transaction: ...working... done\n",
      "Executing transaction: ...working... done\n",
      "\n",
      "Note: you may need to restart the kernel to use updated packages.\n"
     ]
    }
   ],
   "source": [
    "conda install pytorch torchvision torchaudio pytorch-cuda=11.8 -c pytorch -c nvidia"
   ]
  },
  {
   "cell_type": "code",
   "execution_count": 2,
   "id": "57458a7c-ec0d-4eea-b997-d1c635d34cb2",
   "metadata": {},
   "outputs": [
    {
     "name": "stdout",
     "output_type": "stream",
     "text": [
      "# packages in environment at C:\\Users\\aksho\\anaconda3:\n",
      "#\n",
      "# Name                    Version                   Build  Channel\n",
      "pytorch                   2.2.2           py3.9_cuda11.8_cudnn8_0    pytorch\n",
      "pytorch-cuda              11.8                 h24eeafa_5    pytorch\n",
      "pytorch-lightning         2.2.1                    pypi_0    pypi\n",
      "pytorch-mutex             1.0                        cuda    pytorch\n",
      "torch                     2.2.0                    pypi_0    pypi\n",
      "torchaudio                2.2.0                    pypi_0    pypi\n",
      "torchmetrics              1.3.2                    pypi_0    pypi\n",
      "torchvision               0.17.2                   pypi_0    pypi\n",
      "\n",
      "Note: you may need to restart the kernel to use updated packages.\n"
     ]
    }
   ],
   "source": [
    "conda list torch"
   ]
  },
  {
   "cell_type": "code",
   "execution_count": null,
   "id": "f9f1a0d9-8a6b-4748-bf64-d91f94da0937",
   "metadata": {},
   "outputs": [],
   "source": []
  }
 ],
 "metadata": {
  "kernelspec": {
   "display_name": "Python 3 (ipykernel)",
   "language": "python",
   "name": "python3"
  },
  "language_info": {
   "codemirror_mode": {
    "name": "ipython",
    "version": 3
   },
   "file_extension": ".py",
   "mimetype": "text/x-python",
   "name": "python",
   "nbconvert_exporter": "python",
   "pygments_lexer": "ipython3",
   "version": "3.9.19"
  }
 },
 "nbformat": 4,
 "nbformat_minor": 5
}
